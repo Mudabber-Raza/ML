{
  "nbformat": 4,
  "nbformat_minor": 0,
  "metadata": {
    "colab": {
      "provenance": [],
      "include_colab_link": true
    },
    "kernelspec": {
      "name": "python3",
      "display_name": "Python 3"
    }
  },
  "cells": [
    {
      "cell_type": "markdown",
      "metadata": {
        "id": "view-in-github",
        "colab_type": "text"
      },
      "source": [
        "<a href=\"https://colab.research.google.com/github/Mudabber-Raza/ML/blob/main/Karachi_Housing-%20Data%20Cleaning%2C%20Manipulation%20and%20Regression.ipynb\" target=\"_parent\"><img src=\"https://colab.research.google.com/assets/colab-badge.svg\" alt=\"Open In Colab\"/></a>"
      ]
    },
    {
      "cell_type": "markdown",
      "metadata": {
        "id": "37puETfgRzzg"
      },
      "source": [
        "# Karachi_Housing- Data Cleaning, Manipulation and Regression"
      ]
    },
    {
      "cell_type": "markdown",
      "metadata": {
        "id": "EoRP98MpR-qj"
      },
      "source": [
        "## Importing the libraries"
      ]
    },
    {
      "cell_type": "code",
      "metadata": {
        "id": "N-qiINBQSK2g"
      },
      "source": [
        "import numpy as np\n",
        "import matplotlib.pyplot as plt\n",
        "import pandas as pd"
      ],
      "execution_count": null,
      "outputs": []
    },
    {
      "cell_type": "markdown",
      "metadata": {
        "id": "RopL7tUZSQkT"
      },
      "source": [
        "## Importing the dataset"
      ]
    },
    {
      "cell_type": "code",
      "metadata": {
        "id": "WwEPNDWySTKm"
      },
      "source": [
        "df = pd.read_csv('/content/Karachi_2023.csv')\n"
      ],
      "execution_count": null,
      "outputs": []
    },
    {
      "cell_type": "code",
      "metadata": {
        "id": "eYrOQ43XcJR3",
        "colab": {
          "base_uri": "https://localhost:8080/"
        },
        "outputId": "997431c0-d44d-4556-ad9b-28231401e1f3"
      },
      "source": [
        "print(df.info())"
      ],
      "execution_count": null,
      "outputs": [
        {
          "output_type": "stream",
          "name": "stdout",
          "text": [
            "<class 'pandas.core.frame.DataFrame'>\n",
            "RangeIndex: 8414 entries, 0 to 8413\n",
            "Data columns (total 7 columns):\n",
            " #   Column     Non-Null Count  Dtype \n",
            "---  ------     --------------  ----- \n",
            " 0   title      8414 non-null   object\n",
            " 1   price      8413 non-null   object\n",
            " 2   type       8413 non-null   object\n",
            " 3   bedrooms   8414 non-null   int64 \n",
            " 4   bathrooms  8414 non-null   int64 \n",
            " 5   area       7322 non-null   object\n",
            " 6   location   8047 non-null   object\n",
            "dtypes: int64(2), object(5)\n",
            "memory usage: 460.3+ KB\n",
            "None\n"
          ]
        }
      ]
    },
    {
      "cell_type": "code",
      "source": [
        "missing_values = df.isnull().sum()\n",
        "print(missing_values)"
      ],
      "metadata": {
        "colab": {
          "base_uri": "https://localhost:8080/"
        },
        "id": "W1BgeJUafZSM",
        "outputId": "d9d1bc0f-23da-4b03-c745-afe7645a9a41"
      },
      "execution_count": null,
      "outputs": [
        {
          "output_type": "stream",
          "name": "stdout",
          "text": [
            "title           0\n",
            "price           1\n",
            "type            1\n",
            "bedrooms        0\n",
            "bathrooms       0\n",
            "area         1092\n",
            "location      367\n",
            "dtype: int64\n"
          ]
        }
      ]
    },
    {
      "cell_type": "code",
      "source": [
        "df_clean = df.dropna()"
      ],
      "metadata": {
        "id": "58KaBLZUfmnk"
      },
      "execution_count": null,
      "outputs": []
    },
    {
      "cell_type": "code",
      "source": [
        "print(df_clean.info())"
      ],
      "metadata": {
        "colab": {
          "base_uri": "https://localhost:8080/"
        },
        "id": "pwNs0nyxfyUe",
        "outputId": "46ad5f7d-1c76-4a63-c374-40782fd22c92"
      },
      "execution_count": null,
      "outputs": [
        {
          "output_type": "stream",
          "name": "stdout",
          "text": [
            "<class 'pandas.core.frame.DataFrame'>\n",
            "Int64Index: 6962 entries, 0 to 8413\n",
            "Data columns (total 7 columns):\n",
            " #   Column     Non-Null Count  Dtype \n",
            "---  ------     --------------  ----- \n",
            " 0   title      6962 non-null   object\n",
            " 1   price      6962 non-null   object\n",
            " 2   type       6962 non-null   object\n",
            " 3   bedrooms   6962 non-null   int64 \n",
            " 4   bathrooms  6962 non-null   int64 \n",
            " 5   area       6962 non-null   object\n",
            " 6   location   6962 non-null   object\n",
            "dtypes: int64(2), object(5)\n",
            "memory usage: 435.1+ KB\n",
            "None\n"
          ]
        }
      ]
    },
    {
      "cell_type": "code",
      "source": [
        "df_new = df_clean.copy()"
      ],
      "metadata": {
        "id": "XpyHM7VtiSnM"
      },
      "execution_count": null,
      "outputs": []
    },
    {
      "cell_type": "code",
      "source": [
        "print(df_new.info())"
      ],
      "metadata": {
        "colab": {
          "base_uri": "https://localhost:8080/"
        },
        "id": "lks50miNgjHi",
        "outputId": "fcd7eeab-7f78-4dcf-82ad-15817c109c19"
      },
      "execution_count": null,
      "outputs": [
        {
          "output_type": "stream",
          "name": "stdout",
          "text": [
            "<class 'pandas.core.frame.DataFrame'>\n",
            "Int64Index: 6962 entries, 0 to 8413\n",
            "Data columns (total 7 columns):\n",
            " #   Column     Non-Null Count  Dtype \n",
            "---  ------     --------------  ----- \n",
            " 0   title      6962 non-null   object\n",
            " 1   price      6962 non-null   object\n",
            " 2   type       6962 non-null   object\n",
            " 3   bedrooms   6962 non-null   int64 \n",
            " 4   bathrooms  6962 non-null   int64 \n",
            " 5   area       6962 non-null   object\n",
            " 6   location   6962 non-null   object\n",
            "dtypes: int64(2), object(5)\n",
            "memory usage: 435.1+ KB\n",
            "None\n"
          ]
        }
      ]
    },
    {
      "cell_type": "code",
      "source": [
        "df_new['location'] = df_new['location'].str.replace(', Karachi, Sindh', '')\n",
        "df_new.head()"
      ],
      "metadata": {
        "colab": {
          "base_uri": "https://localhost:8080/",
          "height": 206
        },
        "id": "CUSkL38i06nx",
        "outputId": "d3a9aba1-7f74-4e56-80cb-12ae7c46111b"
      },
      "execution_count": null,
      "outputs": [
        {
          "output_type": "execute_result",
          "data": {
            "text/plain": [
              "                                               title       price   type  \\\n",
              "0          600 Yard Bungalow For Sale In DHA Phase 6  11.5 Crore  House   \n",
              "4                Buying A Flat In Clifton - Block 9?     4 Crore   Flat   \n",
              "5  500 Yards Bungalow Available For Sale In Phase...     9 Crore  House   \n",
              "8  Brand New State Of The Art Building 3 Bed Apar...     6 Crore   Flat   \n",
              "9  Flat For Sale 3 Bed Dd 2200 Sq Ft Platinum Res...   3.7 Crore   Flat   \n",
              "\n",
              "   bedrooms  bathrooms         area     location  \n",
              "0         5          6  600 Sq. Yd.  DHA Defence  \n",
              "4         3          3  200 Sq. Yd.      Clifton  \n",
              "5         7          6  500 Sq. Yd.  DHA Defence  \n",
              "8         3          4  200 Sq. Yd.      Clifton  \n",
              "9         3          3  244 Sq. Yd.      Clifton  "
            ],
            "text/html": [
              "\n",
              "  <div id=\"df-0a6c569a-1bf3-4a9c-b807-34a2f1e8cbd1\" class=\"colab-df-container\">\n",
              "    <div>\n",
              "<style scoped>\n",
              "    .dataframe tbody tr th:only-of-type {\n",
              "        vertical-align: middle;\n",
              "    }\n",
              "\n",
              "    .dataframe tbody tr th {\n",
              "        vertical-align: top;\n",
              "    }\n",
              "\n",
              "    .dataframe thead th {\n",
              "        text-align: right;\n",
              "    }\n",
              "</style>\n",
              "<table border=\"1\" class=\"dataframe\">\n",
              "  <thead>\n",
              "    <tr style=\"text-align: right;\">\n",
              "      <th></th>\n",
              "      <th>title</th>\n",
              "      <th>price</th>\n",
              "      <th>type</th>\n",
              "      <th>bedrooms</th>\n",
              "      <th>bathrooms</th>\n",
              "      <th>area</th>\n",
              "      <th>location</th>\n",
              "    </tr>\n",
              "  </thead>\n",
              "  <tbody>\n",
              "    <tr>\n",
              "      <th>0</th>\n",
              "      <td>600 Yard Bungalow For Sale In DHA Phase 6</td>\n",
              "      <td>11.5 Crore</td>\n",
              "      <td>House</td>\n",
              "      <td>5</td>\n",
              "      <td>6</td>\n",
              "      <td>600 Sq. Yd.</td>\n",
              "      <td>DHA Defence</td>\n",
              "    </tr>\n",
              "    <tr>\n",
              "      <th>4</th>\n",
              "      <td>Buying A Flat In Clifton - Block 9?</td>\n",
              "      <td>4 Crore</td>\n",
              "      <td>Flat</td>\n",
              "      <td>3</td>\n",
              "      <td>3</td>\n",
              "      <td>200 Sq. Yd.</td>\n",
              "      <td>Clifton</td>\n",
              "    </tr>\n",
              "    <tr>\n",
              "      <th>5</th>\n",
              "      <td>500 Yards Bungalow Available For Sale In Phase...</td>\n",
              "      <td>9 Crore</td>\n",
              "      <td>House</td>\n",
              "      <td>7</td>\n",
              "      <td>6</td>\n",
              "      <td>500 Sq. Yd.</td>\n",
              "      <td>DHA Defence</td>\n",
              "    </tr>\n",
              "    <tr>\n",
              "      <th>8</th>\n",
              "      <td>Brand New State Of The Art Building 3 Bed Apar...</td>\n",
              "      <td>6 Crore</td>\n",
              "      <td>Flat</td>\n",
              "      <td>3</td>\n",
              "      <td>4</td>\n",
              "      <td>200 Sq. Yd.</td>\n",
              "      <td>Clifton</td>\n",
              "    </tr>\n",
              "    <tr>\n",
              "      <th>9</th>\n",
              "      <td>Flat For Sale 3 Bed Dd 2200 Sq Ft Platinum Res...</td>\n",
              "      <td>3.7 Crore</td>\n",
              "      <td>Flat</td>\n",
              "      <td>3</td>\n",
              "      <td>3</td>\n",
              "      <td>244 Sq. Yd.</td>\n",
              "      <td>Clifton</td>\n",
              "    </tr>\n",
              "  </tbody>\n",
              "</table>\n",
              "</div>\n",
              "    <div class=\"colab-df-buttons\">\n",
              "\n",
              "  <div class=\"colab-df-container\">\n",
              "    <button class=\"colab-df-convert\" onclick=\"convertToInteractive('df-0a6c569a-1bf3-4a9c-b807-34a2f1e8cbd1')\"\n",
              "            title=\"Convert this dataframe to an interactive table.\"\n",
              "            style=\"display:none;\">\n",
              "\n",
              "  <svg xmlns=\"http://www.w3.org/2000/svg\" height=\"24px\" viewBox=\"0 -960 960 960\">\n",
              "    <path d=\"M120-120v-720h720v720H120Zm60-500h600v-160H180v160Zm220 220h160v-160H400v160Zm0 220h160v-160H400v160ZM180-400h160v-160H180v160Zm440 0h160v-160H620v160ZM180-180h160v-160H180v160Zm440 0h160v-160H620v160Z\"/>\n",
              "  </svg>\n",
              "    </button>\n",
              "\n",
              "  <style>\n",
              "    .colab-df-container {\n",
              "      display:flex;\n",
              "      gap: 12px;\n",
              "    }\n",
              "\n",
              "    .colab-df-convert {\n",
              "      background-color: #E8F0FE;\n",
              "      border: none;\n",
              "      border-radius: 50%;\n",
              "      cursor: pointer;\n",
              "      display: none;\n",
              "      fill: #1967D2;\n",
              "      height: 32px;\n",
              "      padding: 0 0 0 0;\n",
              "      width: 32px;\n",
              "    }\n",
              "\n",
              "    .colab-df-convert:hover {\n",
              "      background-color: #E2EBFA;\n",
              "      box-shadow: 0px 1px 2px rgba(60, 64, 67, 0.3), 0px 1px 3px 1px rgba(60, 64, 67, 0.15);\n",
              "      fill: #174EA6;\n",
              "    }\n",
              "\n",
              "    .colab-df-buttons div {\n",
              "      margin-bottom: 4px;\n",
              "    }\n",
              "\n",
              "    [theme=dark] .colab-df-convert {\n",
              "      background-color: #3B4455;\n",
              "      fill: #D2E3FC;\n",
              "    }\n",
              "\n",
              "    [theme=dark] .colab-df-convert:hover {\n",
              "      background-color: #434B5C;\n",
              "      box-shadow: 0px 1px 3px 1px rgba(0, 0, 0, 0.15);\n",
              "      filter: drop-shadow(0px 1px 2px rgba(0, 0, 0, 0.3));\n",
              "      fill: #FFFFFF;\n",
              "    }\n",
              "  </style>\n",
              "\n",
              "    <script>\n",
              "      const buttonEl =\n",
              "        document.querySelector('#df-0a6c569a-1bf3-4a9c-b807-34a2f1e8cbd1 button.colab-df-convert');\n",
              "      buttonEl.style.display =\n",
              "        google.colab.kernel.accessAllowed ? 'block' : 'none';\n",
              "\n",
              "      async function convertToInteractive(key) {\n",
              "        const element = document.querySelector('#df-0a6c569a-1bf3-4a9c-b807-34a2f1e8cbd1');\n",
              "        const dataTable =\n",
              "          await google.colab.kernel.invokeFunction('convertToInteractive',\n",
              "                                                    [key], {});\n",
              "        if (!dataTable) return;\n",
              "\n",
              "        const docLinkHtml = 'Like what you see? Visit the ' +\n",
              "          '<a target=\"_blank\" href=https://colab.research.google.com/notebooks/data_table.ipynb>data table notebook</a>'\n",
              "          + ' to learn more about interactive tables.';\n",
              "        element.innerHTML = '';\n",
              "        dataTable['output_type'] = 'display_data';\n",
              "        await google.colab.output.renderOutput(dataTable, element);\n",
              "        const docLink = document.createElement('div');\n",
              "        docLink.innerHTML = docLinkHtml;\n",
              "        element.appendChild(docLink);\n",
              "      }\n",
              "    </script>\n",
              "  </div>\n",
              "\n",
              "\n",
              "<div id=\"df-23260c79-7b5b-4bb7-bdde-fe6900a75723\">\n",
              "  <button class=\"colab-df-quickchart\" onclick=\"quickchart('df-23260c79-7b5b-4bb7-bdde-fe6900a75723')\"\n",
              "            title=\"Suggest charts.\"\n",
              "            style=\"display:none;\">\n",
              "\n",
              "<svg xmlns=\"http://www.w3.org/2000/svg\" height=\"24px\"viewBox=\"0 0 24 24\"\n",
              "     width=\"24px\">\n",
              "    <g>\n",
              "        <path d=\"M19 3H5c-1.1 0-2 .9-2 2v14c0 1.1.9 2 2 2h14c1.1 0 2-.9 2-2V5c0-1.1-.9-2-2-2zM9 17H7v-7h2v7zm4 0h-2V7h2v10zm4 0h-2v-4h2v4z\"/>\n",
              "    </g>\n",
              "</svg>\n",
              "  </button>\n",
              "\n",
              "<style>\n",
              "  .colab-df-quickchart {\n",
              "    background-color: #E8F0FE;\n",
              "    border: none;\n",
              "    border-radius: 50%;\n",
              "    cursor: pointer;\n",
              "    display: none;\n",
              "    fill: #1967D2;\n",
              "    height: 32px;\n",
              "    padding: 0 0 0 0;\n",
              "    width: 32px;\n",
              "  }\n",
              "\n",
              "  .colab-df-quickchart:hover {\n",
              "    background-color: #E2EBFA;\n",
              "    box-shadow: 0px 1px 2px rgba(60, 64, 67, 0.3), 0px 1px 3px 1px rgba(60, 64, 67, 0.15);\n",
              "    fill: #174EA6;\n",
              "  }\n",
              "\n",
              "  [theme=dark] .colab-df-quickchart {\n",
              "    background-color: #3B4455;\n",
              "    fill: #D2E3FC;\n",
              "  }\n",
              "\n",
              "  [theme=dark] .colab-df-quickchart:hover {\n",
              "    background-color: #434B5C;\n",
              "    box-shadow: 0px 1px 3px 1px rgba(0, 0, 0, 0.15);\n",
              "    filter: drop-shadow(0px 1px 2px rgba(0, 0, 0, 0.3));\n",
              "    fill: #FFFFFF;\n",
              "  }\n",
              "</style>\n",
              "\n",
              "  <script>\n",
              "    async function quickchart(key) {\n",
              "      const charts = await google.colab.kernel.invokeFunction(\n",
              "          'suggestCharts', [key], {});\n",
              "    }\n",
              "    (() => {\n",
              "      let quickchartButtonEl =\n",
              "        document.querySelector('#df-23260c79-7b5b-4bb7-bdde-fe6900a75723 button');\n",
              "      quickchartButtonEl.style.display =\n",
              "        google.colab.kernel.accessAllowed ? 'block' : 'none';\n",
              "    })();\n",
              "  </script>\n",
              "</div>\n",
              "    </div>\n",
              "  </div>\n"
            ]
          },
          "metadata": {},
          "execution_count": 10
        }
      ]
    },
    {
      "cell_type": "code",
      "source": [
        "df_new['area'] = df_new['area'].str.replace(' Sq. Yd.', '')\n",
        "df_new['area'] = df_new['area'].str.replace(',', '')\n",
        "df_new['area'] = df_new['area'].astype(int)\n",
        "df_new.head()"
      ],
      "metadata": {
        "colab": {
          "base_uri": "https://localhost:8080/",
          "height": 711
        },
        "id": "twOAMsTK1roV",
        "outputId": "9417d10b-e216-430a-bf8c-d185a601a706"
      },
      "execution_count": null,
      "outputs": [
        {
          "output_type": "stream",
          "name": "stderr",
          "text": [
            "<ipython-input-11-cc773adf9e61>:1: FutureWarning: The default value of regex will change from True to False in a future version.\n",
            "  df_new['area'] = df_new['area'].str.replace(' Sq. Yd.', '')\n"
          ]
        },
        {
          "output_type": "execute_result",
          "data": {
            "text/plain": [
              "                                                title        price   type  \\\n",
              "0           600 Yard Bungalow For Sale In DHA Phase 6   11.5 Crore  House   \n",
              "4                 Buying A Flat In Clifton - Block 9?      4 Crore   Flat   \n",
              "5   500 Yards Bungalow Available For Sale In Phase...      9 Crore  House   \n",
              "8   Brand New State Of The Art Building 3 Bed Apar...      6 Crore   Flat   \n",
              "9   Flat For Sale 3 Bed Dd 2200 Sq Ft Platinum Res...    3.7 Crore   Flat   \n",
              "11  1000 Yards Bungalow Available For Sale In Phas...     20 Crore  House   \n",
              "12                          Brand New 4 Bed Apartment    3.6 Crore   Flat   \n",
              "14           BRANDNEW BUNGLOW FOR SALE IN DHA PHASE 8     17 Crore  House   \n",
              "15  Fully Renovated 2 Bedrooms Flat Available For ...   1.15 Crore   Flat   \n",
              "16                Dha Phase 4 Single Storey House G 1   7.25 Crore  House   \n",
              "17  500 Square Yards Bungalow Available For Sale I...   10.5 Crore  House   \n",
              "18                 SEAVIEW APARTMENT REASONABLE PRICE    3.6 Crore   Flat   \n",
              "19  Luxury Villa In Very Reasonable Rate, Take Ben...   1.95 Crore  House   \n",
              "20  2 two bed appartment availible for sale in tow...      95 Lakh   Flat   \n",
              "21  West Open 2 Bed Apartment For Sale In Precinct 19      75 Lakh   Flat   \n",
              "22  Downtown Karachi - A cut above the rest - 520s...  13.75 Crore  House   \n",
              "23  950 SQ Ft 2 Bed Apartment Available for Sale I...      70 Lakh   Flat   \n",
              "24       Bungalow Facing Apartment Available For Sale   1.35 Crore   Flat   \n",
              "25  Flat Of 1800 Square Feet Available In Clifton ...   5.25 Crore   Flat   \n",
              "26  2300 Square Feet Flat Is Available For sale In...   2.75 Crore   Flat   \n",
              "\n",
              "    bedrooms  bathrooms  area             location  \n",
              "0          5          6   600          DHA Defence  \n",
              "4          3          3   200              Clifton  \n",
              "5          7          6   500          DHA Defence  \n",
              "8          3          4   200              Clifton  \n",
              "9          3          3   244              Clifton  \n",
              "11         6          6  1000          DHA Defence  \n",
              "12         4          6   267          DHA Defence  \n",
              "14         6          6   500          DHA Defence  \n",
              "15         2          2   111          DHA Defence  \n",
              "16         3          4   545          DHA Defence  \n",
              "17         6          6   500          DHA Defence  \n",
              "18         3          3   256          DHA Defence  \n",
              "19         4          5   350  Bahria Town Karachi  \n",
              "20         2          2   111  Bahria Town Karachi  \n",
              "21         2          3   106  Bahria Town Karachi  \n",
              "22         6          6   520              Clifton  \n",
              "23         2          2   106  Bahria Town Karachi  \n",
              "24         2          2   100          DHA Defence  \n",
              "25         3          3   200              Clifton  \n",
              "26         4          4   256          DHA Defence  "
            ],
            "text/html": [
              "\n",
              "  <div id=\"df-fa40d6fb-8b2d-4c27-8d1f-6b5839ec055f\" class=\"colab-df-container\">\n",
              "    <div>\n",
              "<style scoped>\n",
              "    .dataframe tbody tr th:only-of-type {\n",
              "        vertical-align: middle;\n",
              "    }\n",
              "\n",
              "    .dataframe tbody tr th {\n",
              "        vertical-align: top;\n",
              "    }\n",
              "\n",
              "    .dataframe thead th {\n",
              "        text-align: right;\n",
              "    }\n",
              "</style>\n",
              "<table border=\"1\" class=\"dataframe\">\n",
              "  <thead>\n",
              "    <tr style=\"text-align: right;\">\n",
              "      <th></th>\n",
              "      <th>title</th>\n",
              "      <th>price</th>\n",
              "      <th>type</th>\n",
              "      <th>bedrooms</th>\n",
              "      <th>bathrooms</th>\n",
              "      <th>area</th>\n",
              "      <th>location</th>\n",
              "    </tr>\n",
              "  </thead>\n",
              "  <tbody>\n",
              "    <tr>\n",
              "      <th>0</th>\n",
              "      <td>600 Yard Bungalow For Sale In DHA Phase 6</td>\n",
              "      <td>11.5 Crore</td>\n",
              "      <td>House</td>\n",
              "      <td>5</td>\n",
              "      <td>6</td>\n",
              "      <td>600</td>\n",
              "      <td>DHA Defence</td>\n",
              "    </tr>\n",
              "    <tr>\n",
              "      <th>4</th>\n",
              "      <td>Buying A Flat In Clifton - Block 9?</td>\n",
              "      <td>4 Crore</td>\n",
              "      <td>Flat</td>\n",
              "      <td>3</td>\n",
              "      <td>3</td>\n",
              "      <td>200</td>\n",
              "      <td>Clifton</td>\n",
              "    </tr>\n",
              "    <tr>\n",
              "      <th>5</th>\n",
              "      <td>500 Yards Bungalow Available For Sale In Phase...</td>\n",
              "      <td>9 Crore</td>\n",
              "      <td>House</td>\n",
              "      <td>7</td>\n",
              "      <td>6</td>\n",
              "      <td>500</td>\n",
              "      <td>DHA Defence</td>\n",
              "    </tr>\n",
              "    <tr>\n",
              "      <th>8</th>\n",
              "      <td>Brand New State Of The Art Building 3 Bed Apar...</td>\n",
              "      <td>6 Crore</td>\n",
              "      <td>Flat</td>\n",
              "      <td>3</td>\n",
              "      <td>4</td>\n",
              "      <td>200</td>\n",
              "      <td>Clifton</td>\n",
              "    </tr>\n",
              "    <tr>\n",
              "      <th>9</th>\n",
              "      <td>Flat For Sale 3 Bed Dd 2200 Sq Ft Platinum Res...</td>\n",
              "      <td>3.7 Crore</td>\n",
              "      <td>Flat</td>\n",
              "      <td>3</td>\n",
              "      <td>3</td>\n",
              "      <td>244</td>\n",
              "      <td>Clifton</td>\n",
              "    </tr>\n",
              "    <tr>\n",
              "      <th>11</th>\n",
              "      <td>1000 Yards Bungalow Available For Sale In Phas...</td>\n",
              "      <td>20 Crore</td>\n",
              "      <td>House</td>\n",
              "      <td>6</td>\n",
              "      <td>6</td>\n",
              "      <td>1000</td>\n",
              "      <td>DHA Defence</td>\n",
              "    </tr>\n",
              "    <tr>\n",
              "      <th>12</th>\n",
              "      <td>Brand New 4 Bed Apartment</td>\n",
              "      <td>3.6 Crore</td>\n",
              "      <td>Flat</td>\n",
              "      <td>4</td>\n",
              "      <td>6</td>\n",
              "      <td>267</td>\n",
              "      <td>DHA Defence</td>\n",
              "    </tr>\n",
              "    <tr>\n",
              "      <th>14</th>\n",
              "      <td>BRANDNEW BUNGLOW FOR SALE IN DHA PHASE 8</td>\n",
              "      <td>17 Crore</td>\n",
              "      <td>House</td>\n",
              "      <td>6</td>\n",
              "      <td>6</td>\n",
              "      <td>500</td>\n",
              "      <td>DHA Defence</td>\n",
              "    </tr>\n",
              "    <tr>\n",
              "      <th>15</th>\n",
              "      <td>Fully Renovated 2 Bedrooms Flat Available For ...</td>\n",
              "      <td>1.15 Crore</td>\n",
              "      <td>Flat</td>\n",
              "      <td>2</td>\n",
              "      <td>2</td>\n",
              "      <td>111</td>\n",
              "      <td>DHA Defence</td>\n",
              "    </tr>\n",
              "    <tr>\n",
              "      <th>16</th>\n",
              "      <td>Dha Phase 4 Single Storey House G 1</td>\n",
              "      <td>7.25 Crore</td>\n",
              "      <td>House</td>\n",
              "      <td>3</td>\n",
              "      <td>4</td>\n",
              "      <td>545</td>\n",
              "      <td>DHA Defence</td>\n",
              "    </tr>\n",
              "    <tr>\n",
              "      <th>17</th>\n",
              "      <td>500 Square Yards Bungalow Available For Sale I...</td>\n",
              "      <td>10.5 Crore</td>\n",
              "      <td>House</td>\n",
              "      <td>6</td>\n",
              "      <td>6</td>\n",
              "      <td>500</td>\n",
              "      <td>DHA Defence</td>\n",
              "    </tr>\n",
              "    <tr>\n",
              "      <th>18</th>\n",
              "      <td>SEAVIEW APARTMENT REASONABLE PRICE</td>\n",
              "      <td>3.6 Crore</td>\n",
              "      <td>Flat</td>\n",
              "      <td>3</td>\n",
              "      <td>3</td>\n",
              "      <td>256</td>\n",
              "      <td>DHA Defence</td>\n",
              "    </tr>\n",
              "    <tr>\n",
              "      <th>19</th>\n",
              "      <td>Luxury Villa In Very Reasonable Rate, Take Ben...</td>\n",
              "      <td>1.95 Crore</td>\n",
              "      <td>House</td>\n",
              "      <td>4</td>\n",
              "      <td>5</td>\n",
              "      <td>350</td>\n",
              "      <td>Bahria Town Karachi</td>\n",
              "    </tr>\n",
              "    <tr>\n",
              "      <th>20</th>\n",
              "      <td>2 two bed appartment availible for sale in tow...</td>\n",
              "      <td>95 Lakh</td>\n",
              "      <td>Flat</td>\n",
              "      <td>2</td>\n",
              "      <td>2</td>\n",
              "      <td>111</td>\n",
              "      <td>Bahria Town Karachi</td>\n",
              "    </tr>\n",
              "    <tr>\n",
              "      <th>21</th>\n",
              "      <td>West Open 2 Bed Apartment For Sale In Precinct 19</td>\n",
              "      <td>75 Lakh</td>\n",
              "      <td>Flat</td>\n",
              "      <td>2</td>\n",
              "      <td>3</td>\n",
              "      <td>106</td>\n",
              "      <td>Bahria Town Karachi</td>\n",
              "    </tr>\n",
              "    <tr>\n",
              "      <th>22</th>\n",
              "      <td>Downtown Karachi - A cut above the rest - 520s...</td>\n",
              "      <td>13.75 Crore</td>\n",
              "      <td>House</td>\n",
              "      <td>6</td>\n",
              "      <td>6</td>\n",
              "      <td>520</td>\n",
              "      <td>Clifton</td>\n",
              "    </tr>\n",
              "    <tr>\n",
              "      <th>23</th>\n",
              "      <td>950 SQ Ft 2 Bed Apartment Available for Sale I...</td>\n",
              "      <td>70 Lakh</td>\n",
              "      <td>Flat</td>\n",
              "      <td>2</td>\n",
              "      <td>2</td>\n",
              "      <td>106</td>\n",
              "      <td>Bahria Town Karachi</td>\n",
              "    </tr>\n",
              "    <tr>\n",
              "      <th>24</th>\n",
              "      <td>Bungalow Facing Apartment Available For Sale</td>\n",
              "      <td>1.35 Crore</td>\n",
              "      <td>Flat</td>\n",
              "      <td>2</td>\n",
              "      <td>2</td>\n",
              "      <td>100</td>\n",
              "      <td>DHA Defence</td>\n",
              "    </tr>\n",
              "    <tr>\n",
              "      <th>25</th>\n",
              "      <td>Flat Of 1800 Square Feet Available In Clifton ...</td>\n",
              "      <td>5.25 Crore</td>\n",
              "      <td>Flat</td>\n",
              "      <td>3</td>\n",
              "      <td>3</td>\n",
              "      <td>200</td>\n",
              "      <td>Clifton</td>\n",
              "    </tr>\n",
              "    <tr>\n",
              "      <th>26</th>\n",
              "      <td>2300 Square Feet Flat Is Available For sale In...</td>\n",
              "      <td>2.75 Crore</td>\n",
              "      <td>Flat</td>\n",
              "      <td>4</td>\n",
              "      <td>4</td>\n",
              "      <td>256</td>\n",
              "      <td>DHA Defence</td>\n",
              "    </tr>\n",
              "  </tbody>\n",
              "</table>\n",
              "</div>\n",
              "    <div class=\"colab-df-buttons\">\n",
              "\n",
              "  <div class=\"colab-df-container\">\n",
              "    <button class=\"colab-df-convert\" onclick=\"convertToInteractive('df-fa40d6fb-8b2d-4c27-8d1f-6b5839ec055f')\"\n",
              "            title=\"Convert this dataframe to an interactive table.\"\n",
              "            style=\"display:none;\">\n",
              "\n",
              "  <svg xmlns=\"http://www.w3.org/2000/svg\" height=\"24px\" viewBox=\"0 -960 960 960\">\n",
              "    <path d=\"M120-120v-720h720v720H120Zm60-500h600v-160H180v160Zm220 220h160v-160H400v160Zm0 220h160v-160H400v160ZM180-400h160v-160H180v160Zm440 0h160v-160H620v160ZM180-180h160v-160H180v160Zm440 0h160v-160H620v160Z\"/>\n",
              "  </svg>\n",
              "    </button>\n",
              "\n",
              "  <style>\n",
              "    .colab-df-container {\n",
              "      display:flex;\n",
              "      gap: 12px;\n",
              "    }\n",
              "\n",
              "    .colab-df-convert {\n",
              "      background-color: #E8F0FE;\n",
              "      border: none;\n",
              "      border-radius: 50%;\n",
              "      cursor: pointer;\n",
              "      display: none;\n",
              "      fill: #1967D2;\n",
              "      height: 32px;\n",
              "      padding: 0 0 0 0;\n",
              "      width: 32px;\n",
              "    }\n",
              "\n",
              "    .colab-df-convert:hover {\n",
              "      background-color: #E2EBFA;\n",
              "      box-shadow: 0px 1px 2px rgba(60, 64, 67, 0.3), 0px 1px 3px 1px rgba(60, 64, 67, 0.15);\n",
              "      fill: #174EA6;\n",
              "    }\n",
              "\n",
              "    .colab-df-buttons div {\n",
              "      margin-bottom: 4px;\n",
              "    }\n",
              "\n",
              "    [theme=dark] .colab-df-convert {\n",
              "      background-color: #3B4455;\n",
              "      fill: #D2E3FC;\n",
              "    }\n",
              "\n",
              "    [theme=dark] .colab-df-convert:hover {\n",
              "      background-color: #434B5C;\n",
              "      box-shadow: 0px 1px 3px 1px rgba(0, 0, 0, 0.15);\n",
              "      filter: drop-shadow(0px 1px 2px rgba(0, 0, 0, 0.3));\n",
              "      fill: #FFFFFF;\n",
              "    }\n",
              "  </style>\n",
              "\n",
              "    <script>\n",
              "      const buttonEl =\n",
              "        document.querySelector('#df-fa40d6fb-8b2d-4c27-8d1f-6b5839ec055f button.colab-df-convert');\n",
              "      buttonEl.style.display =\n",
              "        google.colab.kernel.accessAllowed ? 'block' : 'none';\n",
              "\n",
              "      async function convertToInteractive(key) {\n",
              "        const element = document.querySelector('#df-fa40d6fb-8b2d-4c27-8d1f-6b5839ec055f');\n",
              "        const dataTable =\n",
              "          await google.colab.kernel.invokeFunction('convertToInteractive',\n",
              "                                                    [key], {});\n",
              "        if (!dataTable) return;\n",
              "\n",
              "        const docLinkHtml = 'Like what you see? Visit the ' +\n",
              "          '<a target=\"_blank\" href=https://colab.research.google.com/notebooks/data_table.ipynb>data table notebook</a>'\n",
              "          + ' to learn more about interactive tables.';\n",
              "        element.innerHTML = '';\n",
              "        dataTable['output_type'] = 'display_data';\n",
              "        await google.colab.output.renderOutput(dataTable, element);\n",
              "        const docLink = document.createElement('div');\n",
              "        docLink.innerHTML = docLinkHtml;\n",
              "        element.appendChild(docLink);\n",
              "      }\n",
              "    </script>\n",
              "  </div>\n",
              "\n",
              "\n",
              "<div id=\"df-6e2b73a5-704a-45e2-b62c-0426f19d2f9f\">\n",
              "  <button class=\"colab-df-quickchart\" onclick=\"quickchart('df-6e2b73a5-704a-45e2-b62c-0426f19d2f9f')\"\n",
              "            title=\"Suggest charts.\"\n",
              "            style=\"display:none;\">\n",
              "\n",
              "<svg xmlns=\"http://www.w3.org/2000/svg\" height=\"24px\"viewBox=\"0 0 24 24\"\n",
              "     width=\"24px\">\n",
              "    <g>\n",
              "        <path d=\"M19 3H5c-1.1 0-2 .9-2 2v14c0 1.1.9 2 2 2h14c1.1 0 2-.9 2-2V5c0-1.1-.9-2-2-2zM9 17H7v-7h2v7zm4 0h-2V7h2v10zm4 0h-2v-4h2v4z\"/>\n",
              "    </g>\n",
              "</svg>\n",
              "  </button>\n",
              "\n",
              "<style>\n",
              "  .colab-df-quickchart {\n",
              "    background-color: #E8F0FE;\n",
              "    border: none;\n",
              "    border-radius: 50%;\n",
              "    cursor: pointer;\n",
              "    display: none;\n",
              "    fill: #1967D2;\n",
              "    height: 32px;\n",
              "    padding: 0 0 0 0;\n",
              "    width: 32px;\n",
              "  }\n",
              "\n",
              "  .colab-df-quickchart:hover {\n",
              "    background-color: #E2EBFA;\n",
              "    box-shadow: 0px 1px 2px rgba(60, 64, 67, 0.3), 0px 1px 3px 1px rgba(60, 64, 67, 0.15);\n",
              "    fill: #174EA6;\n",
              "  }\n",
              "\n",
              "  [theme=dark] .colab-df-quickchart {\n",
              "    background-color: #3B4455;\n",
              "    fill: #D2E3FC;\n",
              "  }\n",
              "\n",
              "  [theme=dark] .colab-df-quickchart:hover {\n",
              "    background-color: #434B5C;\n",
              "    box-shadow: 0px 1px 3px 1px rgba(0, 0, 0, 0.15);\n",
              "    filter: drop-shadow(0px 1px 2px rgba(0, 0, 0, 0.3));\n",
              "    fill: #FFFFFF;\n",
              "  }\n",
              "</style>\n",
              "\n",
              "  <script>\n",
              "    async function quickchart(key) {\n",
              "      const charts = await google.colab.kernel.invokeFunction(\n",
              "          'suggestCharts', [key], {});\n",
              "    }\n",
              "    (() => {\n",
              "      let quickchartButtonEl =\n",
              "        document.querySelector('#df-6e2b73a5-704a-45e2-b62c-0426f19d2f9f button');\n",
              "      quickchartButtonEl.style.display =\n",
              "        google.colab.kernel.accessAllowed ? 'block' : 'none';\n",
              "    })();\n",
              "  </script>\n",
              "</div>\n",
              "    </div>\n",
              "  </div>\n"
            ]
          },
          "metadata": {},
          "execution_count": 11
        }
      ]
    },
    {
      "cell_type": "code",
      "source": [
        "# Clean Data without null values exported into new csv file\n",
        "\n",
        "#df_new.to_csv('new_dataset1.csv', index=False)"
      ],
      "metadata": {
        "id": "arZ9eJakitX5"
      },
      "execution_count": null,
      "outputs": []
    },
    {
      "cell_type": "code",
      "source": [
        "def preprocess_price(price_str):\n",
        "    if 'Crore' in price_str:\n",
        "        price = float(price_str.replace(' Crore', '')) * 10000000\n",
        "    elif 'Lakh' in price_str:\n",
        "        price = float(price_str.replace(' Lakh', '')) * 100000\n",
        "    else:\n",
        "        price = float(price_str)\n",
        "    return price\n",
        "\n",
        "# Apply the preprocessing function to the price column\n",
        "df_new['price'] = df_new['price'].apply(preprocess_price)\n",
        "\n",
        "# Display the updated DataFrame\n",
        "print(df_new)\n"
      ],
      "metadata": {
        "colab": {
          "base_uri": "https://localhost:8080/"
        },
        "id": "xF2xbDsDOL9p",
        "outputId": "02f07c13-d900-4953-959d-0ad3e4d614cb"
      },
      "execution_count": null,
      "outputs": [
        {
          "output_type": "stream",
          "name": "stdout",
          "text": [
            "                                                  title        price   type  \\\n",
            "0             600 Yard Bungalow For Sale In DHA Phase 6  115000000.0  House   \n",
            "4                   Buying A Flat In Clifton - Block 9?   40000000.0   Flat   \n",
            "5     500 Yards Bungalow Available For Sale In Phase...   90000000.0  House   \n",
            "8     Brand New State Of The Art Building 3 Bed Apar...   60000000.0   Flat   \n",
            "9     Flat For Sale 3 Bed Dd 2200 Sq Ft Platinum Res...   37000000.0   Flat   \n",
            "...                                                 ...          ...    ...   \n",
            "8409  Construct Your Precinct 9, Bahria Hills 500 Sq...   50000000.0  House   \n",
            "8410  125 Square Yards House Up For Sale In Bahria T...   12000000.0  House   \n",
            "8411  235 Square Yards House Up For Sale In Bahria T...   15500000.0  House   \n",
            "8412  950 Square Feet's Apartments Up For Sale In Ba...    7000000.0   Flat   \n",
            "8413  Ideal Location Ali Block Villa A Construction ...   10000000.0  House   \n",
            "\n",
            "      bedrooms  bathrooms  area             location  \n",
            "0            5          6   600          DHA Defence  \n",
            "4            3          3   200              Clifton  \n",
            "5            7          6   500          DHA Defence  \n",
            "8            3          4   200              Clifton  \n",
            "9            3          3   244              Clifton  \n",
            "...        ...        ...   ...                  ...  \n",
            "8409         5          5   500  Bahria Town Karachi  \n",
            "8410         4          4   125  Bahria Town Karachi  \n",
            "8411         3          3   235  Bahria Town Karachi  \n",
            "8412         2          2   106  Bahria Town Karachi  \n",
            "8413         4          4   125  Bahria Town Karachi  \n",
            "\n",
            "[6962 rows x 7 columns]\n"
          ]
        }
      ]
    },
    {
      "cell_type": "code",
      "source": [
        "df_new.drop(columns=['title'], inplace=True)\n",
        "print(df_new)"
      ],
      "metadata": {
        "colab": {
          "base_uri": "https://localhost:8080/"
        },
        "id": "wp8FF-KkQC80",
        "outputId": "9f9f06ac-d365-439f-edf8-133f11d477c6"
      },
      "execution_count": null,
      "outputs": [
        {
          "output_type": "stream",
          "name": "stdout",
          "text": [
            "            price   type  bedrooms  bathrooms  area             location\n",
            "0     115000000.0  House         5          6   600          DHA Defence\n",
            "4      40000000.0   Flat         3          3   200              Clifton\n",
            "5      90000000.0  House         7          6   500          DHA Defence\n",
            "8      60000000.0   Flat         3          4   200              Clifton\n",
            "9      37000000.0   Flat         3          3   244              Clifton\n",
            "...           ...    ...       ...        ...   ...                  ...\n",
            "8409   50000000.0  House         5          5   500  Bahria Town Karachi\n",
            "8410   12000000.0  House         4          4   125  Bahria Town Karachi\n",
            "8411   15500000.0  House         3          3   235  Bahria Town Karachi\n",
            "8412    7000000.0   Flat         2          2   106  Bahria Town Karachi\n",
            "8413   10000000.0  House         4          4   125  Bahria Town Karachi\n",
            "\n",
            "[6962 rows x 6 columns]\n"
          ]
        }
      ]
    },
    {
      "cell_type": "code",
      "source": [
        "X = df_new.iloc[:, 1:].values\n",
        "y = df_new.iloc[:, 0].values\n",
        "\n",
        "print(X)"
      ],
      "metadata": {
        "colab": {
          "base_uri": "https://localhost:8080/"
        },
        "id": "BhwV9YeLRR7a",
        "outputId": "f1d0ec00-82bb-4d15-d06b-9dd3e1ff7ec5"
      },
      "execution_count": null,
      "outputs": [
        {
          "output_type": "stream",
          "name": "stdout",
          "text": [
            "[['House' 5 6 600 'DHA Defence']\n",
            " ['Flat' 3 3 200 'Clifton']\n",
            " ['House' 7 6 500 'DHA Defence']\n",
            " ...\n",
            " ['House' 3 3 235 'Bahria Town Karachi']\n",
            " ['Flat' 2 2 106 'Bahria Town Karachi']\n",
            " ['House' 4 4 125 'Bahria Town Karachi']]\n"
          ]
        }
      ]
    },
    {
      "cell_type": "markdown",
      "metadata": {
        "id": "CriG6VzVSjcK"
      },
      "source": [
        "## Encoding categorical data"
      ]
    },
    {
      "cell_type": "markdown",
      "metadata": {
        "id": "AhSpdQWeSsFh"
      },
      "source": [
        "### Encoding the Independent Variable"
      ]
    },
    {
      "cell_type": "code",
      "metadata": {
        "id": "5hwuVddlSwVi",
        "colab": {
          "base_uri": "https://localhost:8080/"
        },
        "outputId": "e67534ab-a69f-494a-d0f9-462d1bbdfba2"
      },
      "source": [
        "# Encoding the column 'Location'\n",
        "\n",
        "from sklearn.compose import ColumnTransformer\n",
        "from sklearn.preprocessing import OneHotEncoder\n",
        "ct = ColumnTransformer(transformers=[('encoder', OneHotEncoder(), [4])], remainder='passthrough')\n",
        "X = np.array(ct.fit_transform(X))\n",
        "\n",
        "print(X)\n"
      ],
      "execution_count": null,
      "outputs": [
        {
          "output_type": "stream",
          "name": "stdout",
          "text": [
            "[[1.0 0.0 0.0 ... 5 6 600]\n",
            " [1.0 0.0 0.0 ... 3 3 200]\n",
            " [1.0 0.0 0.0 ... 7 6 500]\n",
            " ...\n",
            " [1.0 0.0 0.0 ... 3 3 235]\n",
            " [1.0 0.0 0.0 ... 2 2 106]\n",
            " [1.0 0.0 0.0 ... 4 4 125]]\n"
          ]
        }
      ]
    },
    {
      "cell_type": "code",
      "metadata": {
        "id": "f7QspewyeBfx"
      },
      "source": [
        "#Encoding the column 'type'\n",
        "\n",
        "from sklearn.compose import ColumnTransformer\n",
        "from sklearn.preprocessing import OneHotEncoder\n",
        "ct = ColumnTransformer(transformers=[('encoder', OneHotEncoder(), [3])], remainder='passthrough')\n",
        "X = np.array(ct.fit_transform(X))"
      ],
      "execution_count": null,
      "outputs": []
    },
    {
      "cell_type": "markdown",
      "metadata": {
        "id": "qb_vcgm3qZKW"
      },
      "source": [
        "## Splitting the dataset into the Training set and Test set"
      ]
    },
    {
      "cell_type": "code",
      "metadata": {
        "id": "pXgA6CzlqbCl"
      },
      "source": [
        "from sklearn.model_selection import train_test_split\n",
        "X_train, X_test, y_train, y_test = train_test_split(X, y, test_size = 0.2, random_state = 1)"
      ],
      "execution_count": null,
      "outputs": []
    },
    {
      "cell_type": "markdown",
      "metadata": {
        "id": "TpGqbS4TqkIR"
      },
      "source": [
        "## Fitting Multiple Regression model on the dataset"
      ]
    },
    {
      "cell_type": "code",
      "metadata": {
        "id": "AxjSUXFQqo-3",
        "colab": {
          "base_uri": "https://localhost:8080/",
          "height": 74
        },
        "outputId": "5084b13b-eede-486f-8230-b99224d32ab3"
      },
      "source": [
        "from sklearn.linear_model import LinearRegression\n",
        "regressor = LinearRegression()\n",
        "regressor.fit(X_train, y_train)"
      ],
      "execution_count": null,
      "outputs": [
        {
          "output_type": "execute_result",
          "data": {
            "text/plain": [
              "LinearRegression()"
            ],
            "text/html": [
              "<style>#sk-container-id-1 {color: black;background-color: white;}#sk-container-id-1 pre{padding: 0;}#sk-container-id-1 div.sk-toggleable {background-color: white;}#sk-container-id-1 label.sk-toggleable__label {cursor: pointer;display: block;width: 100%;margin-bottom: 0;padding: 0.3em;box-sizing: border-box;text-align: center;}#sk-container-id-1 label.sk-toggleable__label-arrow:before {content: \"▸\";float: left;margin-right: 0.25em;color: #696969;}#sk-container-id-1 label.sk-toggleable__label-arrow:hover:before {color: black;}#sk-container-id-1 div.sk-estimator:hover label.sk-toggleable__label-arrow:before {color: black;}#sk-container-id-1 div.sk-toggleable__content {max-height: 0;max-width: 0;overflow: hidden;text-align: left;background-color: #f0f8ff;}#sk-container-id-1 div.sk-toggleable__content pre {margin: 0.2em;color: black;border-radius: 0.25em;background-color: #f0f8ff;}#sk-container-id-1 input.sk-toggleable__control:checked~div.sk-toggleable__content {max-height: 200px;max-width: 100%;overflow: auto;}#sk-container-id-1 input.sk-toggleable__control:checked~label.sk-toggleable__label-arrow:before {content: \"▾\";}#sk-container-id-1 div.sk-estimator input.sk-toggleable__control:checked~label.sk-toggleable__label {background-color: #d4ebff;}#sk-container-id-1 div.sk-label input.sk-toggleable__control:checked~label.sk-toggleable__label {background-color: #d4ebff;}#sk-container-id-1 input.sk-hidden--visually {border: 0;clip: rect(1px 1px 1px 1px);clip: rect(1px, 1px, 1px, 1px);height: 1px;margin: -1px;overflow: hidden;padding: 0;position: absolute;width: 1px;}#sk-container-id-1 div.sk-estimator {font-family: monospace;background-color: #f0f8ff;border: 1px dotted black;border-radius: 0.25em;box-sizing: border-box;margin-bottom: 0.5em;}#sk-container-id-1 div.sk-estimator:hover {background-color: #d4ebff;}#sk-container-id-1 div.sk-parallel-item::after {content: \"\";width: 100%;border-bottom: 1px solid gray;flex-grow: 1;}#sk-container-id-1 div.sk-label:hover label.sk-toggleable__label {background-color: #d4ebff;}#sk-container-id-1 div.sk-serial::before {content: \"\";position: absolute;border-left: 1px solid gray;box-sizing: border-box;top: 0;bottom: 0;left: 50%;z-index: 0;}#sk-container-id-1 div.sk-serial {display: flex;flex-direction: column;align-items: center;background-color: white;padding-right: 0.2em;padding-left: 0.2em;position: relative;}#sk-container-id-1 div.sk-item {position: relative;z-index: 1;}#sk-container-id-1 div.sk-parallel {display: flex;align-items: stretch;justify-content: center;background-color: white;position: relative;}#sk-container-id-1 div.sk-item::before, #sk-container-id-1 div.sk-parallel-item::before {content: \"\";position: absolute;border-left: 1px solid gray;box-sizing: border-box;top: 0;bottom: 0;left: 50%;z-index: -1;}#sk-container-id-1 div.sk-parallel-item {display: flex;flex-direction: column;z-index: 1;position: relative;background-color: white;}#sk-container-id-1 div.sk-parallel-item:first-child::after {align-self: flex-end;width: 50%;}#sk-container-id-1 div.sk-parallel-item:last-child::after {align-self: flex-start;width: 50%;}#sk-container-id-1 div.sk-parallel-item:only-child::after {width: 0;}#sk-container-id-1 div.sk-dashed-wrapped {border: 1px dashed gray;margin: 0 0.4em 0.5em 0.4em;box-sizing: border-box;padding-bottom: 0.4em;background-color: white;}#sk-container-id-1 div.sk-label label {font-family: monospace;font-weight: bold;display: inline-block;line-height: 1.2em;}#sk-container-id-1 div.sk-label-container {text-align: center;}#sk-container-id-1 div.sk-container {/* jupyter's `normalize.less` sets `[hidden] { display: none; }` but bootstrap.min.css set `[hidden] { display: none !important; }` so we also need the `!important` here to be able to override the default hidden behavior on the sphinx rendered scikit-learn.org. See: https://github.com/scikit-learn/scikit-learn/issues/21755 */display: inline-block !important;position: relative;}#sk-container-id-1 div.sk-text-repr-fallback {display: none;}</style><div id=\"sk-container-id-1\" class=\"sk-top-container\"><div class=\"sk-text-repr-fallback\"><pre>LinearRegression()</pre><b>In a Jupyter environment, please rerun this cell to show the HTML representation or trust the notebook. <br />On GitHub, the HTML representation is unable to render, please try loading this page with nbviewer.org.</b></div><div class=\"sk-container\" hidden><div class=\"sk-item\"><div class=\"sk-estimator sk-toggleable\"><input class=\"sk-toggleable__control sk-hidden--visually\" id=\"sk-estimator-id-1\" type=\"checkbox\" checked><label for=\"sk-estimator-id-1\" class=\"sk-toggleable__label sk-toggleable__label-arrow\">LinearRegression</label><div class=\"sk-toggleable__content\"><pre>LinearRegression()</pre></div></div></div></div></div>"
            ]
          },
          "metadata": {},
          "execution_count": 20
        }
      ]
    },
    {
      "cell_type": "code",
      "source": [
        "y_pred = regressor.predict(X_test)\n",
        "np.set_printoptions(threshold=None, linewidth=None)\n",
        "np.set_printoptions(precision=2)\n",
        "print(np.concatenate((y_pred.reshape(len(y_pred),1), y_test.reshape(len(y_test),1)),1))"
      ],
      "metadata": {
        "colab": {
          "base_uri": "https://localhost:8080/"
        },
        "id": "unpBOo43aaOD",
        "outputId": "36fb64df-4059-4de3-ea2e-143107f4dd95"
      },
      "execution_count": null,
      "outputs": [
        {
          "output_type": "stream",
          "name": "stdout",
          "text": [
            "[[ -4465279.12  11300000.  ]\n",
            " [ 18386363.76  21800000.  ]\n",
            " [ 22270743.14   7000000.  ]\n",
            " ...\n",
            " [-18155279.62   4700000.  ]\n",
            " [ 50929740.3   99000000.  ]\n",
            " [ -2658828.77   9500000.  ]]\n"
          ]
        }
      ]
    },
    {
      "cell_type": "code",
      "source": [
        "plt.scatter(y_test, y_pred, color='blue')\n",
        "plt.plot([min(y_test), max(y_test)], [min(y_test), max(y_test)], color='red', linestyle='--')\n",
        "plt.title('Actual vs Predicted Price')\n",
        "plt.xlabel('Actual Price')\n",
        "plt.ylabel('Predicted Price')\n",
        "plt.show()\n"
      ],
      "metadata": {
        "colab": {
          "base_uri": "https://localhost:8080/",
          "height": 472
        },
        "id": "cJXcXwZ0am1d",
        "outputId": "37df3963-e95b-4c89-cdb5-d154ef2de24c"
      },
      "execution_count": null,
      "outputs": [
        {
          "output_type": "display_data",
          "data": {
            "text/plain": [
              "<Figure size 640x480 with 1 Axes>"
            ],
            "image/png": "[encoded data removed]"
          },
          "metadata": {}
        }
      ]
    }
  ]
}